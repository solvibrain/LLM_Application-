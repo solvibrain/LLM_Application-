{
  "nbformat": 4,
  "nbformat_minor": 0,
  "metadata": {
    "colab": {
      "private_outputs": true,
      "provenance": [],
      "authorship_tag": "ABX9TyPzN4D/8xkuwayTxEisVvNd",
      "include_colab_link": true
    },
    "kernelspec": {
      "name": "python3",
      "display_name": "Python 3"
    },
    "language_info": {
      "name": "python"
    }
  },
  "cells": [
    {
      "cell_type": "markdown",
      "metadata": {
        "id": "view-in-github",
        "colab_type": "text"
      },
      "source": [
        "<a href=\"https://colab.research.google.com/github/solvibrain/LLM_Application-/blob/master/Searching_and_writting_article_agent.ipynb\" target=\"_parent\"><img src=\"https://colab.research.google.com/assets/colab-badge.svg\" alt=\"Open In Colab\"/></a>"
      ]
    },
    {
      "cell_type": "code",
      "execution_count": null,
      "metadata": {
        "collapsed": true,
        "id": "ZmEJpUMFvURU"
      },
      "outputs": [],
      "source": [
        "!pip install crewai\n",
        "!pip install 'crewai[tools]'"
      ]
    },
    {
      "cell_type": "code",
      "source": [
        "import os\n",
        "from google.colab import userdata\n",
        "os.environ[\"OPENAI_MODEL_NAME\"]='gpt-3.5-turbo'\n",
        "\n",
        "os.environ[\"SERPER_API_KEY\"] = userdata.get('serp_api_key')  # serper.dev API key\n",
        "os.environ[\"OPENAI_API_KEY\"] = userdata.get('openai_api_key')\n",
        "\n",
        "from crewai import Agent\n",
        "from crewai_tools import SerperDevTool\n",
        "search_tool = SerperDevTool()\n",
        "\n",
        "# Creating a senior researcher agent with memory and verbose mode\n",
        "researcher = Agent(\n",
        "  role='Senior Researcher',\n",
        "  goal='Uncover groundbreaking technologies in {topic}',\n",
        "  verbose=True,\n",
        "  memory=True,\n",
        "  backstory=(\n",
        "    \"Driven by curiosity, you're at the forefront of\"\n",
        "    \"innovation, eager to explore and share knowledge that could change\"\n",
        "    \"the world.\"\n",
        "  ),\n",
        "  tools=[search_tool],\n",
        "  allow_delegation=True\n",
        ")\n",
        "\n",
        "# Creating a writer agent with custom tools and delegation capability\n",
        "writer = Agent(\n",
        "  role='Writer',\n",
        "  goal='Narrate compelling tech stories about {topic}',\n",
        "  verbose=True,\n",
        "  memory=True,\n",
        "  backstory=(\n",
        "    \"With a flair for simplifying complex topics, you craft\"\n",
        "    \"engaging narratives that captivate and educate, bringing new\"\n",
        "    \"discoveries to light in an accessible manner.\"\n",
        "  ),\n",
        "  tools=[search_tool],\n",
        "  allow_delegation=False\n",
        ")"
      ],
      "metadata": {
        "id": "cEs9F_1CvfKY"
      },
      "execution_count": null,
      "outputs": []
    },
    {
      "cell_type": "code",
      "source": [
        "from crewai import Task\n",
        "\n",
        "# Research task\n",
        "research_task = Task(\n",
        "  description=(\n",
        "    \"Identify the next big trend in {topic}.\"\n",
        "    \"Focus on identifying pros and cons and the overall narrative.\"\n",
        "    \"Your final report should clearly articulate the key points,\"\n",
        "    \"its market opportunities, and potential risks.\"\n",
        "  ),\n",
        "  expected_output='A comprehensive 3 paragraphs long report on the latest AI trends.',\n",
        "  tools=[search_tool],\n",
        "  agent=researcher,\n",
        ")\n",
        "\n",
        "# Writing task with language model configuration\n",
        "write_task = Task(\n",
        "  description=(\n",
        "    \"Compose an insightful article on {topic}.\"\n",
        "    \"Focus on the latest trends and how it's impacting the industry.\"\n",
        "    \"This article should be easy to understand, engaging, and positive.\"\n",
        "  ),\n",
        "  expected_output='A 4 paragraph article on {topic} advancements formatted as markdown.',\n",
        "  tools=[search_tool],\n",
        "  agent=writer,\n",
        "  async_execution=False,\n",
        "  output_file='new-blog-post.md'  # Example of output customization\n",
        ")"
      ],
      "metadata": {
        "id": "cM_JBa5Evkt8"
      },
      "execution_count": null,
      "outputs": []
    },
    {
      "cell_type": "code",
      "source": [
        "from crewai import Crew, Process\n",
        "\n",
        "# Forming the tech-focused crew with some enhanced configurations\n",
        "crew = Crew(\n",
        "  agents=[researcher, writer],\n",
        "  tasks=[research_task, write_task],\n",
        "  process=Process.sequential,  # Optional: Sequential task execution is default\n",
        "  memory=True,\n",
        "  cache=True,\n",
        "  max_rpm=100,\n",
        "  share_crew=True\n",
        ")"
      ],
      "metadata": {
        "id": "3XOANrt8voBb"
      },
      "execution_count": null,
      "outputs": []
    },
    {
      "cell_type": "code",
      "source": [
        "# Starting the task execution process with enhanced feedback\n",
        "result = crew.kickoff(inputs={'topic': 'AI in healthcare'})\n",
        "print(result)"
      ],
      "metadata": {
        "id": "dxgnRRk3vq3B"
      },
      "execution_count": null,
      "outputs": []
    },
    {
      "cell_type": "code",
      "source": [
        "from IPython.display import Markdown\n",
        "Markdown(result)"
      ],
      "metadata": {
        "id": "SkOZ2KSh3Iow"
      },
      "execution_count": null,
      "outputs": []
    }
  ]
}