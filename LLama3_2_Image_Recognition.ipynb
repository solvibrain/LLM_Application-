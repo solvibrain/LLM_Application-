{
  "nbformat": 4,
  "nbformat_minor": 0,
  "metadata": {
    "colab": {
      "private_outputs": true,
      "provenance": [],
      "mount_file_id": "1EPBOMSNxlzY0F5HjLMITmxRxKa0dmkte",
      "authorship_tag": "ABX9TyMsvJh0YioUayFKXhOzjOEc",
      "include_colab_link": true
    },
    "kernelspec": {
      "name": "python3",
      "display_name": "Python 3"
    },
    "language_info": {
      "name": "python"
    }
  },
  "cells": [
    {
      "cell_type": "markdown",
      "metadata": {
        "id": "view-in-github",
        "colab_type": "text"
      },
      "source": [
        "<a href=\"https://colab.research.google.com/github/solvibrain/LLM_Application-/blob/master/LLama3_2_Image_Recognition.ipynb\" target=\"_parent\"><img src=\"https://colab.research.google.com/assets/colab-badge.svg\" alt=\"Open In Colab\"/></a>"
      ]
    },
    {
      "cell_type": "markdown",
      "source": [
        "In this Notebook , We are Dealing with how to use LLama 3.2 Multimodal Model . In this Notebook , I am goinng to recognize Images and then Question Answering with given Image.\n",
        "\n",
        "This Notebook is Practical Demonstartion of the learning that I learned form meta's Short course on Deeplearning.ai Platform. And using Documentation on Meta Llama 3.2 ."
      ],
      "metadata": {
        "id": "3kOrkeNWauWJ"
      }
    },
    {
      "cell_type": "markdown",
      "source": [
        "Extra Code and requirements file can Be downloaded using Link\n",
        "\n",
        "##requirements File  \n",
        " https://drive.google.com/file/d/1FSt1kE81s1EIOYzeL1a-cINxj_19PbE9/view?usp=sharing\n",
        "\n",
        "##helpful functions containg file utils.py\n",
        "https://drive.google.com/file/d/1rXgvR7KyMwd38z_JApqnFbwH4uhS-bjI/view?usp=sharing"
      ],
      "metadata": {
        "id": "hXxIxSDSdY0w"
      }
    },
    {
      "cell_type": "code",
      "execution_count": null,
      "metadata": {
        "id": "z6vxyFJKatME"
      },
      "outputs": [],
      "source": [
        "!pip install -r requirements.txt\n"
      ]
    },
    {
      "cell_type": "markdown",
      "source": [
        "# New Section"
      ],
      "metadata": {
        "id": "6m1-2aecb7yR"
      }
    },
    {
      "cell_type": "code",
      "source": [
        "from utils import load_env\n",
        "load_env()"
      ],
      "metadata": {
        "id": "hBQQoYxGcZcx"
      },
      "execution_count": null,
      "outputs": []
    },
    {
      "cell_type": "code",
      "source": [
        "from utils import llama32\n",
        "from utils import llama31"
      ],
      "metadata": {
        "id": "LLmRZP_Beud4"
      },
      "execution_count": null,
      "outputs": []
    }
  ]
}